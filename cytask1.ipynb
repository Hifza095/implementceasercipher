{
  "nbformat": 4,
  "nbformat_minor": 0,
  "metadata": {
    "colab": {
      "provenance": []
    },
    "kernelspec": {
      "name": "python3",
      "display_name": "Python 3"
    },
    "language_info": {
      "name": "python"
    }
  },
  "cells": [
    {
      "cell_type": "code",
      "execution_count": null,
      "metadata": {
        "colab": {
          "base_uri": "https://localhost:8080/"
        },
        "id": "URP1rR_sk19I",
        "outputId": "66810255-2584-4c28-ddba-bddf73e806c1"
      },
      "outputs": [
        {
          "output_type": "stream",
          "name": "stdout",
          "text": [
            "Caesar Cipher Program\n",
            "Do you want to (E)ncrypt or (D)ecrypt? D\n",
            "Enter the text: hifza\n",
            "Enter the shift value: 89\n",
            "Decrypted text: wxuop\n"
          ]
        }
      ],
      "source": [
        "#ceaser cipher\n",
        "def encrypt(text, shift):\n",
        "    encrypted_text = \"\"\n",
        "    for char in text:\n",
        "        if char.isalpha():\n",
        "            shift_amount = shift % 26\n",
        "            new_char = chr((ord(char.lower()) - 97 + shift_amount) % 26 + 97)\n",
        "            if char.isupper():\n",
        "                new_char = new_char.upper()\n",
        "            encrypted_text += new_char\n",
        "        else:\n",
        "            encrypted_text += char\n",
        "    return encrypted_text\n",
        "\n",
        "def decrypt(text, shift):\n",
        "    return encrypt(text, -shift)\n",
        "\n",
        "def main():\n",
        "    print(\"Caesar Cipher Program\")\n",
        "    choice = input(\"Do you want to (E)ncrypt or (D)ecrypt? \").upper()\n",
        "\n",
        "    if choice in ['E', 'D']:\n",
        "        text = input(\"Enter the text: \")\n",
        "        shift = int(input(\"Enter the shift value: \"))\n",
        "\n",
        "        if choice == 'E':\n",
        "            result = encrypt(text, shift)\n",
        "            print(\"Encrypted text:\", result)\n",
        "        elif choice == 'D':\n",
        "            result = decrypt(text, shift)\n",
        "            print(\"Decrypted text:\", result)\n",
        "    else:\n",
        "        print(\"Invalid choice! Please enter 'E' to encrypt or 'D' to decrypt.\")\n",
        "\n",
        "if __name__ == \"__main__\":\n",
        "    main()\n",
        "\n"
      ]
    },
    {
      "cell_type": "markdown",
      "source": [],
      "metadata": {
        "id": "iyMgr6BsNazA"
      }
    }
  ]
}